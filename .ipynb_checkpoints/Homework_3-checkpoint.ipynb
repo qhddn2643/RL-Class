{
 "cells": [
  {
   "cell_type": "markdown",
   "metadata": {},
   "source": [
    "<center>\n",
    "    COMP4240/5435 - Reinforcement Learning\n",
    "\n",
    "# Homework 3 - Dynamic Programming\n",
    "\n",
    "    \n",
    "</center>"
   ]
  },
  {
   "cell_type": "markdown",
   "metadata": {},
   "source": [
    "Student Name: Bongwoo Jeon "
   ]
  },
  {
   "cell_type": "markdown",
   "metadata": {},
   "source": [
    "The purpose of this project is to study different properties of dynamic programming methods. "
   ]
  },
  {
   "cell_type": "code",
   "execution_count": 1,
   "metadata": {},
   "outputs": [],
   "source": [
    "# You are allowed to use the following modules\n",
    "import numpy as np\n",
    "import matplotlib.pyplot as plt"
   ]
  },
  {
   "cell_type": "markdown",
   "metadata": {},
   "source": [
    "**General Notes:**\n",
    "- Questions marked with * are optional for COMP4240 - Undergraduate section. Questions marked as extra credit are optional for everyone.\n",
    "- Do not use a mix of python lists and numpy arrays. Every vector or matrix in your code should be a numpy array. \n",
    "- For functions that exist in both the python core and the numpy library, use the one in the numpy library. For example, use `np.max` instead of `max`. Another example: use `np.random.normal` instead of `random.gauss`.\n",
    "- Make sure all of your plots have a proper size and include `xlabel`, `ylabel`, `legend`, `title`, and `grid`."
   ]
  },
  {
   "attachments": {
    "g1313.png": {
     "image/png": "[encoded data removed]"
    }
   },
   "cell_type": "markdown",
   "metadata": {},
   "source": [
    "## Part I\n",
    "Consider a cleaning robot that must collect an empty can and also has to recharge its batteries.\n",
    "![g1313.png](attachment:g1313.png)\n",
    "\n",
    "This problem has a discrete state space $S=\\{0,…,9\\}$, where state $s$ describes the position of the robot in the corridor. The robot has only two actions $A=\\{-1,1\\}$ for going one step to the left or right. States $0$ and $9$ are terminal, meaning that once the robot reaches either of them it can no longer leave, regardless of the action, and the episode ends. We assume this is a deterministic environment with $\\gamma=0.9$.\n",
    "\n"
   ]
  },
  {
   "cell_type": "markdown",
   "metadata": {},
   "source": [
    "### I.1 \n",
    "Write a function that describes the transition function $s'=T(s,a)$ and test it for a few state-action pairs including terminal states. This is a deterministic transition function meaning given the current state and action, it should return the next state. Note that the transition function describes robot’s environment model and should not allow the robot to move outside the environment.\n"
   ]
  },
  {
   "cell_type": "code",
   "execution_count": 2,
   "metadata": {},
   "outputs": [],
   "source": [
    "def transition(s, a):\n",
    "    # this function should return next state\n",
    "    #--- Your code here ---#\n",
    "    if s >= 0 and s <= 9:\n",
    "        s_prime = s + a\n",
    "        if s_prime >= 0 and s_prime <= 9:\n",
    "            return s_prime\n",
    "        elif s_prime < 0: # if robot moves out to left\n",
    "            return s_prime+1 # back to state 0\n",
    "        elif s_prime > 9: # if robot moves out to right\n",
    "            return s_prime-1 # back to state 9"
   ]
  },
  {
   "cell_type": "markdown",
   "metadata": {},
   "source": [
    "### I.2\n",
    "Write a reward function $R(s,a)$ that gives a reward of $+5$ for being at $s=8$ and taking action $a=1$ ; a reward $+1$ for being at $s=1$ and taking action $a=-1$ ; and reward $0$ otherwise.\n",
    "\n"
   ]
  },
  {
   "cell_type": "code",
   "execution_count": 3,
   "metadata": {},
   "outputs": [],
   "source": [
    "def reward(s, a):\n",
    "    # this function should return a scalar reward\n",
    "    #--- Your code here ---#\n",
    "    reward = 0\n",
    "    if s == 8 and a == 1:\n",
    "        reward = reward + 5\n",
    "    elif s == 1 and a == -1:\n",
    "        reward = reward + 1\n",
    "    return reward"
   ]
  },
  {
   "cell_type": "markdown",
   "metadata": {},
   "source": [
    "### I.3\n",
    "Implement the value iteration algorithm to find $V^*(s)$ and $π^*(s)$. Note that instead of using the dynamics of the environment, $p(s',r|s,a)$, you should use the deterministic transition function $T(s,a)$ that allows you to remove looping over possible rewards and the probability of transitions (because it is a deterministic function). Print out the final $V^*(s)$ and $π^*(s)$.\n"
   ]
  },
  {
   "cell_type": "code",
   "execution_count": 11,
   "metadata": {},
   "outputs": [
    {
     "name": "stdout",
     "output_type": "stream",
     "text": [
      "Value Function:\n",
      "[   0.    0.    0.    0.    0.    0.    0.    0.  450. 3645.]\n",
      "\n",
      "Optimized Policy:\n",
      "[0. 1. 2. 3. 4. 5. 6. 7. 8. 8.]\n",
      "\n"
     ]
    }
   ],
   "source": [
    "#--- Your code here ---#\n",
    "def valueIteration(states, actions, gamma, theta):\n",
    "    num_states = len(states)\n",
    "    num_actions = len(actions)\n",
    "    V = np.zeros(num_states)\n",
    "    A = np.zeros(num_states)\n",
    "    \n",
    "    while True:\n",
    "        delta = 0\n",
    "        for s in states:\n",
    "            v = V[s]\n",
    "            for a in actions:\n",
    "                A[s] = np.sum(transition(s, a) * (reward(s, a) + gamma * V))\n",
    "            best_action_value = np.max(A)\n",
    "            delta = np.maximum(delta, np.abs(v - V[s]))\n",
    "            V[s] = best_action_value\n",
    "        if delta < theta:\n",
    "            break\n",
    "            \n",
    "    policy = np.zeros(num_states)\n",
    "    for s in S:\n",
    "        for a in actions:\n",
    "            A[s] = np.sum(transition(s, a) * (reward(s, a) + gamma * V))\n",
    "        best_action = np.argmax(A)\n",
    "        policy[s] = best_action\n",
    "    return policy, V\n",
    "\n",
    "    \n",
    "S = [0,1,2,3,4,5,6,7,8,9]\n",
    "A = [-1,1]\n",
    "gamma = 0.9\n",
    "\n",
    "policy, vf = valueIteration(S, A, gamma=0.9, theta=1e-100)\n",
    "print(\"Value Function:\")\n",
    "print(vf)\n",
    "print(\"\")\n",
    "print(\"Optimized Policy:\")\n",
    "print(policy)\n",
    "print(\"\")"
   ]
  },
  {
   "cell_type": "markdown",
   "metadata": {},
   "source": [
    "<hr>"
   ]
  },
  {
   "cell_type": "markdown",
   "metadata": {},
   "source": [
    "## Part II (*)\n",
    "A gambler has the opportunity to make bets on the outcomes of a sequence of coin flips. If the coin comes up heads, he wins as many dollars as he has staked on that flip; if it is tails, he loses his stake. The game ends when the gambler wins by reaching his goal of \\$100, or loses by running out of money. \n",
    "\n",
    "On each flip, the gambler must decide what portion of his capital to stake, in integer numbers of dollars. This problem can be formulated as an **undiscounted** ($\\gamma=1$), **episodic**, finite MDP.\n",
    "\n",
    "The state is the gambler’s capital $s \\in \\{ 1,2,...,99\\}$ and the actions are stakes $a \\in \\{ 0,1,..., min(s, 100-s)\\}$. The reward is zero on all transitions except those on which the gambler reaches his goal, when it is +1. \n",
    "The state-value function then gives the probability of winning from each state. \n",
    "\n",
    "A policy is mapping from levels of capital to stakes. The optimal policy maximizes the probability of reaching the goal. \n",
    "Let’s p_h denote the probability of the coin coming up heads. If $p_h$ is known the problem can be solved using value iteration.\n",
    "\n"
   ]
  },
  {
   "cell_type": "markdown",
   "metadata": {},
   "source": [
    "### II.1\n",
    "Implement the Gambler’s problem and then implement **value iteration** to solve the MDP for three scenarios where $p_h=\\{0.4,0.25,0.55\\}$ and find the optimal value function and optimal policy for each scenario.\n",
    "\n",
    "**Tip**: When implementing, you might find it convenient to introduce two dummy states corresponding to termination with capital of 0 and 100, giving them values of 0 and 1 respectively."
   ]
  },
  {
   "cell_type": "code",
   "execution_count": 5,
   "metadata": {},
   "outputs": [
    {
     "name": "stdout",
     "output_type": "stream",
     "text": [
      "For p_h is 0.4\n",
      "Optimized Value Function when p_h = 0.4\n",
      "[0.         0.00206562 0.00516406 0.00922547 0.01291015 0.0173854\n",
      " 0.02306368 0.02781411 0.03227539 0.03768507 0.0434635  0.05035447\n",
      " 0.05765919 0.06523937 0.06953528 0.07443124 0.08068847 0.08661104\n",
      " 0.09421268 0.10314362 0.10865874 0.11596663 0.12588617 0.13357998\n",
      " 0.14414799 0.16       0.16309844 0.16774609 0.17383821 0.17936523\n",
      " 0.1860781  0.19459552 0.20172117 0.20841308 0.21652761 0.22519525\n",
      " 0.2355317  0.24648879 0.25785906 0.26430292 0.27164686 0.2810327\n",
      " 0.28991657 0.30131902 0.31471544 0.32298812 0.33394994 0.34882926\n",
      " 0.36036996 0.37622198 0.4        0.40309844 0.40774609 0.41383821\n",
      " 0.41936523 0.4260781  0.43459552 0.44172117 0.44841308 0.45652761\n",
      " 0.46519525 0.4755317  0.48648879 0.49785906 0.50430292 0.51164686\n",
      " 0.5210327  0.52991657 0.54131902 0.55471544 0.56298812 0.57394994\n",
      " 0.58882926 0.60036996 0.61622198 0.64       0.64464766 0.65161914\n",
      " 0.66075731 0.66904785 0.67911715 0.69189327 0.70258175 0.71261962\n",
      " 0.72479141 0.73779287 0.75329756 0.76973319 0.78678859 0.79645439\n",
      " 0.80747029 0.82154905 0.83487485 0.85197853 0.87207316 0.88448217\n",
      " 0.90092491 0.92324389 0.94055495 0.96433297 0.        ] \n",
      "\n",
      "Optimized Policy when p_h = 0.4\n",
      "[ 0.  1.  2.  3.  4.  5.  6.  7.  8.  9. 10. 11. 12. 12. 11. 10. 16. 17.\n",
      " 18.  6.  5.  4.  3.  2.  1. 25.  1.  2.  3.  4.  5.  6. 32.  8.  9. 10.\n",
      " 11. 13. 12. 39. 10.  9.  8.  7.  6.  5.  4.  3.  2. 49. 50.  1.  2.  3.\n",
      "  4. 45.  6.  7.  8.  9. 10. 39. 12. 37. 14. 35.  9.  8.  7.  6.  5. 21.\n",
      "  3.  2. 24. 25.  1.  2.  3.  4.  5.  6. 18.  8. 16. 10. 11. 13. 12. 11.\n",
      " 10.  9.  8.  7.  6.  5.  4.  3.  2.  1.  0.]\n",
      "\n",
      "\n",
      "For p_h is 0.25\n",
      "Optimized Value Function when p_h = 0.25\n",
      "[0.00000000e+00 7.28611683e-05 2.91444673e-04 6.95264571e-04\n",
      " 1.16577869e-03 1.77125506e-03 2.78105828e-03 4.03661211e-03\n",
      " 4.66311477e-03 5.60141644e-03 7.08502024e-03 9.04088770e-03\n",
      " 1.11242331e-02 1.56796459e-02 1.61464484e-02 1.69534413e-02\n",
      " 1.86524591e-02 1.98260623e-02 2.24056658e-02 2.73847344e-02\n",
      " 2.83400810e-02 3.04945467e-02 3.61635508e-02 3.84959101e-02\n",
      " 4.44969325e-02 6.25000000e-02 6.27185835e-02 6.33743340e-02\n",
      " 6.45857937e-02 6.59973361e-02 6.78137652e-02 7.08431749e-02\n",
      " 7.46098363e-02 7.64893443e-02 7.93042493e-02 8.37550607e-02\n",
      " 8.96226631e-02 9.58726994e-02 1.09538938e-01 1.10939345e-01\n",
      " 1.13360324e-01 1.18457377e-01 1.21978187e-01 1.29716997e-01\n",
      " 1.44654203e-01 1.47520243e-01 1.53983640e-01 1.70990652e-01\n",
      " 1.77987730e-01 1.95990798e-01 2.50000000e-01 2.50218584e-01\n",
      " 2.50874334e-01 2.52085794e-01 2.53497336e-01 2.55313765e-01\n",
      " 2.58343175e-01 2.62109836e-01 2.63989344e-01 2.66804249e-01\n",
      " 2.71255061e-01 2.77122663e-01 2.83372699e-01 2.97038938e-01\n",
      " 2.98439345e-01 3.00860324e-01 3.05957377e-01 3.09478187e-01\n",
      " 3.17216997e-01 3.32154203e-01 3.35020243e-01 3.41483640e-01\n",
      " 3.58490652e-01 3.65487730e-01 3.83490798e-01 4.37500000e-01\n",
      " 4.38155751e-01 4.40123002e-01 4.43757381e-01 4.47992008e-01\n",
      " 4.53441296e-01 4.62529525e-01 4.73829509e-01 4.79468033e-01\n",
      " 4.87912748e-01 5.01265182e-01 5.18867989e-01 5.37618098e-01\n",
      " 5.78616813e-01 5.82818036e-01 5.90080972e-01 6.05372132e-01\n",
      " 6.15934561e-01 6.39150992e-01 6.83962610e-01 6.92560729e-01\n",
      " 7.11950921e-01 7.62971957e-01 7.83963191e-01 8.37972393e-01\n",
      " 0.00000000e+00] \n",
      "\n",
      "Optimized Policy when p_h = 0.25\n",
      "[ 0.  1.  2.  3.  4.  5.  6.  7.  8.  9. 10. 11. 12. 12. 11. 10.  9. 17.\n",
      "  7.  6.  5.  4.  3.  2.  1. 25.  1. 23.  3.  4.  5.  6.  7.  8. 34. 10.\n",
      " 11. 12. 12. 11. 10.  9.  8.  7.  6.  5.  4.  3.  2.  1. 50. 49.  2.  3.\n",
      " 46.  5.  6.  7.  8.  9. 10. 11. 12. 12. 11. 10.  9.  8.  7.  6.  5.  4.\n",
      "  3. 23.  1. 25.  1. 23.  3.  4.  5.  6.  7.  8.  9. 10. 11. 12. 12. 11.\n",
      " 10.  9.  8.  7.  6.  5.  4.  3.  2.  1.  0.]\n",
      "\n",
      "\n",
      "For p_h is 0.55\n",
      "Optimized Value Function when p_h = 0.55\n",
      "[0.         0.18181818 0.33057851 0.45229151 0.55187487 0.63335217\n",
      " 0.70001541 0.75455806 0.79918387 0.83569589 0.86556937 0.8900113\n",
      " 0.91000925 0.9263712  0.93975826 0.9507113  0.95967288 0.96700509\n",
      " 0.97300416 0.9779125  0.98192841 0.98521415 0.98790249 0.99010204\n",
      " 0.99190167 0.99337409 0.9945788  0.99556447 0.99637093 0.99703076\n",
      " 0.99757063 0.99801233 0.99837373 0.99866941 0.99891134 0.99910928\n",
      " 0.99927123 0.99940373 0.99951214 0.99960085 0.99967342 0.9997328\n",
      " 0.99978138 0.99982113 0.99985365 0.99988026 0.99990203 0.99991984\n",
      " 0.99993442 0.99994634 0.9999561  0.99996408 0.99997061 0.99997596\n",
      " 0.99998033 0.99998391 0.99998683 0.99998923 0.99999119 0.99999279\n",
      " 0.9999941  0.99999517 0.99999605 0.99999677 0.99999736 0.99999784\n",
      " 0.99999823 0.99999855 0.99999882 0.99999903 0.99999921 0.99999935\n",
      " 0.99999947 0.99999957 0.99999965 0.99999971 0.99999976 0.99999981\n",
      " 0.99999984 0.99999987 0.9999999  0.99999991 0.99999993 0.99999994\n",
      " 0.99999995 0.99999996 0.99999997 0.99999998 0.99999998 0.99999998\n",
      " 0.99999999 0.99999999 0.99999999 0.99999999 1.         1.\n",
      " 1.         1.         1.         1.         0.        ] \n",
      "\n",
      "Optimized Policy when p_h = 0.55\n",
      "[0. 1. 1. 1. 1. 1. 1. 1. 1. 1. 1. 1. 1. 1. 1. 1. 1. 1. 1. 1. 1. 1. 1. 1.\n",
      " 1. 1. 1. 1. 1. 1. 1. 1. 1. 1. 1. 1. 1. 1. 1. 1. 1. 1. 1. 1. 1. 1. 1. 1.\n",
      " 1. 1. 1. 1. 1. 1. 1. 1. 1. 1. 1. 1. 1. 1. 1. 1. 1. 1. 1. 1. 1. 1. 1. 1.\n",
      " 1. 1. 1. 1. 1. 1. 1. 1. 1. 1. 1. 1. 1. 1. 1. 1. 1. 1. 1. 1. 1. 1. 1. 1.\n",
      " 1. 1. 1. 1. 0.]\n",
      "\n",
      "\n"
     ]
    }
   ],
   "source": [
    "#--- Your code here ---#\n",
    "def GamblerValueIteration(p_h, gamma, theta):\n",
    "    \n",
    "    rewards = np.zeros(101)\n",
    "    rewards[100] = 1 \n",
    "    V = np.zeros(101)\n",
    "    \n",
    "    def lookahead(s, V, rewards):\n",
    "        A = np.zeros(101)\n",
    "        for a in range(1, min(s, 100-s)+1):\n",
    "            A[a] = ((p_h * (rewards[s+a] + V[s+a]*gamma)) + ((1-p_h) * (rewards[s-a] + V[s-a]*gamma)))\n",
    "        return A\n",
    "    \n",
    "    while True:\n",
    "        delta = 0\n",
    "        for s in range(1, 100):\n",
    "            A = lookahead(s, V, rewards)\n",
    "            best_action_value = np.max(A)\n",
    "            delta = max(delta, np.abs(best_action_value - V[s]))\n",
    "            V[s] = best_action_value\n",
    "        if delta < theta:\n",
    "            break\n",
    "\n",
    "    \n",
    "    policy = np.zeros(101)\n",
    "    for s in range(1, 100):\n",
    "        A = lookahead(s, V, rewards)\n",
    "        best_action = np.argmax(A)\n",
    "        policy[s] = best_action\n",
    "    \n",
    "    return policy, V\n",
    "    \n",
    "    \n",
    "p_h = [0.4, 0.25, 0.55]\n",
    "\n",
    "for i in p_h:\n",
    "    policy, vf = GamblerValueIteration(p_h=i, gamma=1.0, theta=1e-100)\n",
    "    print(\"For p_h is\", i)\n",
    "    print(\"Optimized Value Function when p_h =\", i)\n",
    "    print(vf,\"\\n\")\n",
    "    print(\"Optimized Policy when p_h =\", i)\n",
    "    print(policy)\n",
    "    print(\"\\n\")    "
   ]
  },
  {
   "cell_type": "markdown",
   "metadata": {},
   "source": [
    "### II.2\n",
    "For all three scenarios:\n",
    "1. Plot the change in the value function over successive sweeps of value iteration w.r.t capital (state).\n",
    "2. Plot the final policy w.r.t capital (state). \n",
    "\n"
   ]
  },
  {
   "cell_type": "code",
   "execution_count": 6,
   "metadata": {},
   "outputs": [
    {
     "data": {
      "image/png": "[encoded data removed]",
      "text/plain": [
       "<Figure size 640x480 with 1 Axes>"
      ]
     },
     "metadata": {},
     "output_type": "display_data"
    },
    {
     "data": {
      "image/png": "[encoded data removed]",
      "text/plain": [
       "<Figure size 640x480 with 1 Axes>"
      ]
     },
     "metadata": {},
     "output_type": "display_data"
    }
   ],
   "source": [
    "#--- Your code here ---#\n",
    "x = range(101)\n",
    "for i in p_h:\n",
    "    policy, vf = GamblerValueIteration(p_h=i, gamma=1.0, theta=1e-100)\n",
    "    plt.plot(x, vf, label=i)\n",
    "plt.xlabel('Capital')\n",
    "plt.ylabel('Value Estimates')\n",
    "plt.title('Capital vs Value Estimates')\n",
    "plt.legend(fontsize=7)\n",
    "plt.show()\n",
    "\n",
    "\n",
    "for i in p_h:\n",
    "    policy, vf = GamblerValueIteration(p_h=i, gamma=1.0, theta=1e-100)\n",
    "    plt.bar(x, policy, label=i)\n",
    "plt.xlabel('Capital')\n",
    "plt.ylabel('Final policy(stake)')\n",
    "plt.title('Capital vs Final Policy')\n",
    "plt.legend(fontsize=7)\n",
    "plt.show()"
   ]
  },
  {
   "cell_type": "markdown",
   "metadata": {},
   "source": [
    "### II.3\n",
    "Answer the following questions:\n",
    "1. What action does your optimal policy suggest for capital of 50? What about for capital of 51?\n",
    ">Answer: \n",
    "At capital of 50, If I bet \\\\$1, I will get \\\\$50. If I lose \\\\$50, I can bet \\\\$50.\n",
    "At capital of 51, I will bet \\\\$49. If I lose it, I will get \\\\$2. Then I can build up \\\\$100 \n",
    "\n",
    "2. Why do you think your optimal policy is a good policy? Explain.\n",
    "> Answer: Because there is a balance between betting on winning and betting on losing.\n",
    "    \n"
   ]
  },
  {
   "cell_type": "markdown",
   "metadata": {},
   "source": [
    "## Part III (extra credit)\n",
    "Test the algorithm by decreasing $\\theta$ the threshold for accuracy of value function estimation. What happens when $\\theta \\rightarrow 0$? \n",
    "Add any helpful code/graphs if you have."
   ]
  },
  {
   "cell_type": "markdown",
   "metadata": {},
   "source": [
    ">Answer: There is an infinite loop when $\\theta \\rightarrow 0$"
   ]
  },
  {
   "cell_type": "code",
   "execution_count": 7,
   "metadata": {},
   "outputs": [],
   "source": [
    "# for i in p_h:\n",
    "#     policy, vf = GamblerValueIteration(p_h=i, gamma=1.0, theta=0.0)\n",
    "#     plt.plot(vf, label=i)\n",
    "# plt.xlabel('Capital')\n",
    "# plt.ylabel('Value Estimates')\n",
    "# plt.title('Capital vs Value Estimates')\n",
    "# plt.legend(fontsize=7)\n",
    "# plt.show()\n",
    "\n",
    "\n",
    "# for i in p_h:\n",
    "#     policy, vf = GamblerValueIteration(p_h=i, gamma=1.0, theta=0.0)\n",
    "#     plt.bar(range(100), policy, alpha=0.5, align='center', label=i)\n",
    "# plt.xlabel('Capital')\n",
    "# plt.ylabel('Final policy (stake)')\n",
    "# plt.title('Capital vs Final Policy')\n",
    "# plt.legend(fontsize=7)\n",
    "# plt.show()"
   ]
  }
 ],
 "metadata": {
  "kernelspec": {
   "display_name": "Python 3 (ipykernel)",
   "language": "python",
   "name": "python3"
  },
  "language_info": {
   "codemirror_mode": {
    "name": "ipython",
    "version": 3
   },
   "file_extension": ".py",
   "mimetype": "text/x-python",
   "name": "python",
   "nbconvert_exporter": "python",
   "pygments_lexer": "ipython3",
   "version": "3.10.7"
  }
 },
 "nbformat": 4,
 "nbformat_minor": 4
}
